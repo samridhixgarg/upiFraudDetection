{
 "cells": [
  {
   "cell_type": "code",
   "execution_count": 42,
   "metadata": {},
   "outputs": [],
   "source": [
    "import pandas as pd\n",
    "import numpy as np\n",
    "import matplotlib.pyplot as plt\n",
    "import seaborn as sns\n",
    "\n",
    "from sklearn.model_selection import train_test_split\n",
    "from sklearn.preprocessing import LabelEncoder\n",
    "from sklearn.ensemble import RandomForestClassifier\n",
    "from sklearn.metrics import classification_report, confusion_matrix\n",
    "\n",
    "sns.set(style=\"whitegrid\")\n"
   ]
  },
  {
   "cell_type": "code",
   "execution_count": 43,
   "metadata": {},
   "outputs": [
    {
     "data": {
      "text/html": [
       "<div>\n",
       "<style scoped>\n",
       "    .dataframe tbody tr th:only-of-type {\n",
       "        vertical-align: middle;\n",
       "    }\n",
       "\n",
       "    .dataframe tbody tr th {\n",
       "        vertical-align: top;\n",
       "    }\n",
       "\n",
       "    .dataframe thead th {\n",
       "        text-align: right;\n",
       "    }\n",
       "</style>\n",
       "<table border=\"1\" class=\"dataframe\">\n",
       "  <thead>\n",
       "    <tr style=\"text-align: right;\">\n",
       "      <th></th>\n",
       "      <th>Transaction ID</th>\n",
       "      <th>Timestamp</th>\n",
       "      <th>Sender Name</th>\n",
       "      <th>Sender UPI ID</th>\n",
       "      <th>Receiver Name</th>\n",
       "      <th>Receiver UPI ID</th>\n",
       "      <th>Amount (INR)</th>\n",
       "      <th>Status</th>\n",
       "    </tr>\n",
       "  </thead>\n",
       "  <tbody>\n",
       "    <tr>\n",
       "      <th>0</th>\n",
       "      <td>4d3db980-46cd-4158-a812-dcb77055d0d2</td>\n",
       "      <td>2024-06-22 04:06:38</td>\n",
       "      <td>Tiya Mall</td>\n",
       "      <td>4161803452@okaxis</td>\n",
       "      <td>Mohanlal Golla</td>\n",
       "      <td>7776849307@okybl</td>\n",
       "      <td>3907.34</td>\n",
       "      <td>FAILED</td>\n",
       "    </tr>\n",
       "    <tr>\n",
       "      <th>1</th>\n",
       "      <td>099ee548-2fc1-4811-bf92-559c467ca792</td>\n",
       "      <td>2024-06-19 06:04:49</td>\n",
       "      <td>Mohanlal Bakshi</td>\n",
       "      <td>8908837379@okaxis</td>\n",
       "      <td>Mehul Sankaran</td>\n",
       "      <td>7683454560@okaxis</td>\n",
       "      <td>8404.55</td>\n",
       "      <td>SUCCESS</td>\n",
       "    </tr>\n",
       "    <tr>\n",
       "      <th>2</th>\n",
       "      <td>d4c05732-6b1b-4bab-90b9-efe09d252b99</td>\n",
       "      <td>2024-06-04 04:56:09</td>\n",
       "      <td>Kismat Bora</td>\n",
       "      <td>4633654150@okybl</td>\n",
       "      <td>Diya Goel</td>\n",
       "      <td>2598130823@okicici</td>\n",
       "      <td>941.88</td>\n",
       "      <td>SUCCESS</td>\n",
       "    </tr>\n",
       "    <tr>\n",
       "      <th>3</th>\n",
       "      <td>e8df92ee-8b04-4133-af5a-5f412180c8ab</td>\n",
       "      <td>2024-06-09 09:56:07</td>\n",
       "      <td>Ayesha Korpal</td>\n",
       "      <td>7018842771@okhdfcbank</td>\n",
       "      <td>Rhea Kothari</td>\n",
       "      <td>2246623650@okaxis</td>\n",
       "      <td>8926.00</td>\n",
       "      <td>SUCCESS</td>\n",
       "    </tr>\n",
       "    <tr>\n",
       "      <th>4</th>\n",
       "      <td>e7d675d3-04f1-419c-a841-7a04662560b7</td>\n",
       "      <td>2024-06-25 08:38:19</td>\n",
       "      <td>Jivin Batta</td>\n",
       "      <td>1977143985@okybl</td>\n",
       "      <td>Baiju Issac</td>\n",
       "      <td>5245672729@okybl</td>\n",
       "      <td>2800.55</td>\n",
       "      <td>SUCCESS</td>\n",
       "    </tr>\n",
       "  </tbody>\n",
       "</table>\n",
       "</div>"
      ],
      "text/plain": [
       "                         Transaction ID            Timestamp      Sender Name  \\\n",
       "0  4d3db980-46cd-4158-a812-dcb77055d0d2  2024-06-22 04:06:38        Tiya Mall   \n",
       "1  099ee548-2fc1-4811-bf92-559c467ca792  2024-06-19 06:04:49  Mohanlal Bakshi   \n",
       "2  d4c05732-6b1b-4bab-90b9-efe09d252b99  2024-06-04 04:56:09      Kismat Bora   \n",
       "3  e8df92ee-8b04-4133-af5a-5f412180c8ab  2024-06-09 09:56:07    Ayesha Korpal   \n",
       "4  e7d675d3-04f1-419c-a841-7a04662560b7  2024-06-25 08:38:19      Jivin Batta   \n",
       "\n",
       "           Sender UPI ID   Receiver Name     Receiver UPI ID  Amount (INR)  \\\n",
       "0      4161803452@okaxis  Mohanlal Golla    7776849307@okybl       3907.34   \n",
       "1      8908837379@okaxis  Mehul Sankaran   7683454560@okaxis       8404.55   \n",
       "2       4633654150@okybl       Diya Goel  2598130823@okicici        941.88   \n",
       "3  7018842771@okhdfcbank    Rhea Kothari   2246623650@okaxis       8926.00   \n",
       "4       1977143985@okybl     Baiju Issac    5245672729@okybl       2800.55   \n",
       "\n",
       "    Status  \n",
       "0   FAILED  \n",
       "1  SUCCESS  \n",
       "2  SUCCESS  \n",
       "3  SUCCESS  \n",
       "4  SUCCESS  "
      ]
     },
     "execution_count": 43,
     "metadata": {},
     "output_type": "execute_result"
    }
   ],
   "source": [
    "# Load your dataset\n",
    "df = pd.read_csv(\"transactions.csv\")\n",
    "df.head()\n"
   ]
  },
  {
   "cell_type": "code",
   "execution_count": 44,
   "metadata": {},
   "outputs": [
    {
     "name": "stdout",
     "output_type": "stream",
     "text": [
      "<class 'pandas.core.frame.DataFrame'>\n",
      "RangeIndex: 1000 entries, 0 to 999\n",
      "Data columns (total 8 columns):\n",
      " #   Column          Non-Null Count  Dtype  \n",
      "---  ------          --------------  -----  \n",
      " 0   transaction_id  1000 non-null   object \n",
      " 1   timestamp       1000 non-null   object \n",
      " 2   sender_name     1000 non-null   object \n",
      " 3   sender_upi      1000 non-null   object \n",
      " 4   receiver_name   1000 non-null   object \n",
      " 5   receiver_upi    1000 non-null   object \n",
      " 6   amount          1000 non-null   float64\n",
      " 7   status          1000 non-null   object \n",
      "dtypes: float64(1), object(7)\n",
      "memory usage: 62.6+ KB\n",
      "None\n",
      "\n",
      "Class Distribution:\n",
      "status\n",
      "SUCCESS    502\n",
      "FAILED     498\n",
      "Name: count, dtype: int64\n"
     ]
    }
   ],
   "source": [
    "# Rename column for consistency\n",
    "df.rename(columns={\n",
    "    \"Transaction ID\": \"transaction_id\",\n",
    "    \"Timestamp\": \"timestamp\",\n",
    "    \"Sender Name\": \"sender_name\",\n",
    "    \"Sender UPI ID\": \"sender_upi\",\n",
    "    \"Receiver Name\": \"receiver_name\",\n",
    "    \"Receiver UPI ID\": \"receiver_upi\",\n",
    "    \"Amount (INR)\": \"amount\",\n",
    "    \"Status\": \"status\"\n",
    "}, inplace=True)\n",
    "\n",
    "print(df.info())\n",
    "print(\"\\nClass Distribution:\")\n",
    "print(df[\"status\"].value_counts())\n"
   ]
  },
  {
   "cell_type": "code",
   "execution_count": 45,
   "metadata": {},
   "outputs": [
    {
     "name": "stdout",
     "output_type": "stream",
     "text": [
      "                           transaction_id           timestamp  \\\n",
      "0    4d3db980-46cd-4158-a812-dcb77055d0d2 2024-06-22 04:06:38   \n",
      "1    099ee548-2fc1-4811-bf92-559c467ca792 2024-06-19 06:04:49   \n",
      "2    d4c05732-6b1b-4bab-90b9-efe09d252b99 2024-06-04 04:56:09   \n",
      "3    e8df92ee-8b04-4133-af5a-5f412180c8ab 2024-06-09 09:56:07   \n",
      "4    e7d675d3-04f1-419c-a841-7a04662560b7 2024-06-25 08:38:19   \n",
      "..                                    ...                 ...   \n",
      "995  843d87b5-902e-4336-9438-aa76d74e13e4 2024-07-03 23:15:06   \n",
      "996  2dbbb577-4617-44b1-9a51-5fdf18ebb2ab 2024-06-15 15:42:57   \n",
      "997  7c38e684-5968-432e-8acb-5bbe0f718fad 2024-06-18 17:27:37   \n",
      "998  27624b55-fd6d-45ce-bbc5-0c2958d48865 2024-06-05 21:57:36   \n",
      "999  b792bf64-2047-4435-aac1-27ee95b134d6 2024-06-21 15:52:40   \n",
      "\n",
      "            sender_name             sender_upi   receiver_name  \\\n",
      "0             Tiya Mall      4161803452@okaxis  Mohanlal Golla   \n",
      "1       Mohanlal Bakshi      8908837379@okaxis  Mehul Sankaran   \n",
      "2           Kismat Bora       4633654150@okybl       Diya Goel   \n",
      "3         Ayesha Korpal  7018842771@okhdfcbank    Rhea Kothari   \n",
      "4           Jivin Batta       1977143985@okybl     Baiju Issac   \n",
      "..                  ...                    ...             ...   \n",
      "995          Anay Karan  7041132054@okhdfcbank   Dhanush Salvi   \n",
      "996      Nirvaan Aurora       1200592114@okybl     Faiyaz Kara   \n",
      "997  Bhamini Srinivasan     6922445535@okicici     Mishti Kala   \n",
      "998         Krish Kohli  4638471232@okhdfcbank      Sahil Bail   \n",
      "999        Diya Trivedi       0385561234@oksbi     Dhanuk Mane   \n",
      "\n",
      "              receiver_upi   amount   status  transaction_hour  is_weekend  \\\n",
      "0         7776849307@okybl  3907.34   FAILED                 4        True   \n",
      "1        7683454560@okaxis  8404.55  SUCCESS                 6       False   \n",
      "2       2598130823@okicici   941.88  SUCCESS                 4       False   \n",
      "3        2246623650@okaxis  8926.00  SUCCESS                 9        True   \n",
      "4         5245672729@okybl  2800.55  SUCCESS                 8       False   \n",
      "..                     ...      ...      ...               ...         ...   \n",
      "995     7858014473@okicici  9270.15  SUCCESS                23       False   \n",
      "996  2795494339@okhdfcbank  2278.32   FAILED                15        True   \n",
      "997       5207563362@okybl  4857.89   FAILED                17       False   \n",
      "998      9348631179@okaxis  9475.68   FAILED                21       False   \n",
      "999  1884708567@okhdfcbank  1426.60  SUCCESS                15       False   \n",
      "\n",
      "     sender_txn_count  sender_avg_amount  is_high_value  \n",
      "0                   1            3907.34          False  \n",
      "1                   1            8404.55          False  \n",
      "2                   1             941.88          False  \n",
      "3                   1            8926.00          False  \n",
      "4                   1            2800.55          False  \n",
      "..                ...                ...            ...  \n",
      "995                 1            9270.15          False  \n",
      "996                 1            2278.32          False  \n",
      "997                 1            4857.89          False  \n",
      "998                 1            9475.68          False  \n",
      "999                 1            1426.60          False  \n",
      "\n",
      "[1000 rows x 13 columns]\n"
     ]
    }
   ],
   "source": [
    "# Convert timestamp to datetime\n",
    "df['timestamp'] = pd.to_datetime(df['timestamp'])\n",
    "\n",
    "# 1. Extract transaction hour (0-23)\n",
    "df['transaction_hour'] = df['timestamp'].dt.hour\n",
    "\n",
    "# 2. Flag if transaction is on a weekend (Saturday=5, Sunday=6)\n",
    "df['is_weekend'] = df['timestamp'].dt.dayofweek >= 5\n",
    "\n",
    "# 3. Number of previous transactions by the same sender (up to current row)\n",
    "df['sender_txn_count'] = df.groupby('sender_upi').cumcount() + 1\n",
    "\n",
    "# 4. Average transaction amount by the sender (helps detect abnormal spikes)\n",
    "df['sender_avg_amount'] = df.groupby('sender_upi')['amount'].transform('mean')\n",
    "\n",
    "# 5. High value flag — mark transactions above 95th percentile of all amounts\n",
    "high_value_threshold = df['amount'].quantile(0.95)\n",
    "df['is_high_value'] = df['amount'] > high_value_threshold\n",
    "\n",
    "print(df)\n"
   ]
  },
  {
   "cell_type": "code",
   "execution_count": 46,
   "metadata": {},
   "outputs": [
    {
     "name": "stdout",
     "output_type": "stream",
     "text": [
      "status\n",
      "SUCCESS    502\n",
      "FAILED     498\n",
      "Name: count, dtype: int64\n",
      "['FAILED' 'SUCCESS']\n",
      "(1000, 13)\n",
      "Index(['transaction_id', 'timestamp', 'sender_name', 'sender_upi',\n",
      "       'receiver_name', 'receiver_upi', 'amount', 'status', 'transaction_hour',\n",
      "       'is_weekend', 'sender_txn_count', 'sender_avg_amount', 'is_high_value'],\n",
      "      dtype='object')\n",
      "                         transaction_id           timestamp      sender_name  \\\n",
      "0  4d3db980-46cd-4158-a812-dcb77055d0d2 2024-06-22 04:06:38        Tiya Mall   \n",
      "1  099ee548-2fc1-4811-bf92-559c467ca792 2024-06-19 06:04:49  Mohanlal Bakshi   \n",
      "2  d4c05732-6b1b-4bab-90b9-efe09d252b99 2024-06-04 04:56:09      Kismat Bora   \n",
      "3  e8df92ee-8b04-4133-af5a-5f412180c8ab 2024-06-09 09:56:07    Ayesha Korpal   \n",
      "4  e7d675d3-04f1-419c-a841-7a04662560b7 2024-06-25 08:38:19      Jivin Batta   \n",
      "\n",
      "              sender_upi   receiver_name        receiver_upi   amount  \\\n",
      "0      4161803452@okaxis  Mohanlal Golla    7776849307@okybl  3907.34   \n",
      "1      8908837379@okaxis  Mehul Sankaran   7683454560@okaxis  8404.55   \n",
      "2       4633654150@okybl       Diya Goel  2598130823@okicici   941.88   \n",
      "3  7018842771@okhdfcbank    Rhea Kothari   2246623650@okaxis  8926.00   \n",
      "4       1977143985@okybl     Baiju Issac    5245672729@okybl  2800.55   \n",
      "\n",
      "    status  transaction_hour  is_weekend  sender_txn_count  sender_avg_amount  \\\n",
      "0   FAILED                 4        True                 1            3907.34   \n",
      "1  SUCCESS                 6       False                 1            8404.55   \n",
      "2  SUCCESS                 4       False                 1             941.88   \n",
      "3  SUCCESS                 9        True                 1            8926.00   \n",
      "4  SUCCESS                 8       False                 1            2800.55   \n",
      "\n",
      "   is_high_value  \n",
      "0          False  \n",
      "1          False  \n",
      "2          False  \n",
      "3          False  \n",
      "4          False  \n"
     ]
    }
   ],
   "source": [
    "print(df['status'].value_counts())\n",
    "print(df['status'].unique())\n",
    "print(df.shape)\n",
    "print(df.columns)\n",
    "print(df.head())\n",
    "# to check and examine the dataset properly can use matplot later"
   ]
  },
  {
   "cell_type": "code",
   "execution_count": 47,
   "metadata": {},
   "outputs": [
    {
     "name": "stdout",
     "output_type": "stream",
     "text": [
      "0      1\n",
      "1      0\n",
      "2      0\n",
      "3      0\n",
      "4      0\n",
      "      ..\n",
      "995    0\n",
      "996    1\n",
      "997    1\n",
      "998    1\n",
      "999    0\n",
      "Name: status, Length: 1000, dtype: int64\n"
     ]
    }
   ],
   "source": [
    "df['status'] = df['status'].astype(str).str.upper().map({\n",
    "    'SUCCESS': 0,\n",
    "    'FAILED': 1\n",
    "})\n",
    "print(df['status'])\n",
    "\n",
    "X = df.drop(columns=['status', 'timestamp', 'transaction_id', 'sender_name', 'receiver_name', 'sender_upi', 'receiver_upi'])\n",
    "y = df['status']\n",
    "\n"
   ]
  },
  {
   "cell_type": "code",
   "execution_count": 68,
   "metadata": {},
   "outputs": [
    {
     "name": "stderr",
     "output_type": "stream",
     "text": [
      "/opt/anaconda3/lib/python3.12/site-packages/sklearn/base.py:474: FutureWarning: `BaseEstimator._validate_data` is deprecated in 1.6 and will be removed in 1.7. Use `sklearn.utils.validation.validate_data` instead. This function becomes public and is part of the scikit-learn developer API.\n",
      "  warnings.warn(\n"
     ]
    },
    {
     "name": "stdout",
     "output_type": "stream",
     "text": [
      "Fitting 5 folds for each of 90 candidates, totalling 450 fits\n",
      "Best parameters: {'criterion': 'gini', 'max_depth': 7, 'min_samples_leaf': 4, 'min_samples_split': 10}\n",
      "\n",
      "Classification Report:\n",
      "              precision    recall  f1-score   support\n",
      "\n",
      "           0       0.50      0.40      0.45       151\n",
      "           1       0.49      0.59      0.54       149\n",
      "\n",
      "    accuracy                           0.50       300\n",
      "   macro avg       0.50      0.50      0.49       300\n",
      "weighted avg       0.50      0.50      0.49       300\n",
      "\n",
      "Confusion Matrix:\n",
      "[[61 90]\n",
      " [61 88]]\n"
     ]
    }
   ],
   "source": [
    "# tratified K-Fold Cross-Validation\n",
    "from sklearn.model_selection import StratifiedKFold, train_test_split, GridSearchCV\n",
    "from sklearn.tree import DecisionTreeClassifier\n",
    "from sklearn.metrics import classification_report, confusion_matrix\n",
    "from imblearn.over_sampling import SMOTE\n",
    "\n",
    "\n",
    "X_top3 = df[['amount', 'sender_avg_amount', 'transaction_hour']]\n",
    "y = df['status']\n",
    "\n",
    "\n",
    "# Step 1: Final test split (for evaluation only)\n",
    "X_train_full, X_final_test, y_train_full, y_final_test = train_test_split(\n",
    "    X_top3, y, test_size=0.3, stratify=y, random_state=42\n",
    ")\n",
    "\n",
    "# Step 2: SMOTE on training data only\n",
    "smote = SMOTE(random_state=42)\n",
    "X_resampled, y_resampled = smote.fit_resample(X_train_full, y_train_full)\n",
    "\n",
    "# Step 3: Define Stratified K-Fold\n",
    "skf = StratifiedKFold(n_splits=5, shuffle=True, random_state=42)\n",
    "\n",
    "# Step 4: Decision Tree and Hyperparameter grid\n",
    "param_grid = {\n",
    "    'max_depth': [3, 5, 7, 10, None],\n",
    "    'min_samples_split': [2, 5, 10],\n",
    "    'min_samples_leaf': [1, 2, 4],\n",
    "    'criterion': ['gini', 'entropy']\n",
    "}\n",
    "\n",
    "dtree = DecisionTreeClassifier(random_state=42)\n",
    "\n",
    "grid_search = GridSearchCV(\n",
    "    estimator=dtree,\n",
    "    param_grid=param_grid,\n",
    "    scoring='f1',\n",
    "    cv=skf,\n",
    "    verbose=1,\n",
    "    n_jobs=-1\n",
    ")\n",
    "\n",
    "# Step 5: Fit on resampled data\n",
    "grid_search.fit(X_resampled, y_resampled)\n",
    "\n",
    "# Step 6: Evaluate on final test set\n",
    "best_dtree = grid_search.best_estimator_\n",
    "print(\"Best parameters:\", grid_search.best_params_)\n",
    "\n",
    "y_pred = best_dtree.predict(X_final_test)\n",
    "\n",
    "print(\"\\nClassification Report:\")\n",
    "print(classification_report(y_final_test, y_pred))\n",
    "\n",
    "print(\"Confusion Matrix:\")\n",
    "print(confusion_matrix(y_final_test, y_pred))\n"
   ]
  },
  {
   "cell_type": "code",
   "execution_count": 66,
   "metadata": {},
   "outputs": [
    {
     "name": "stdout",
     "output_type": "stream",
     "text": [
      "Fitting 5 folds for each of 90 candidates, totalling 450 fits\n"
     ]
    },
    {
     "name": "stderr",
     "output_type": "stream",
     "text": [
      "/opt/anaconda3/lib/python3.12/site-packages/sklearn/base.py:474: FutureWarning: `BaseEstimator._validate_data` is deprecated in 1.6 and will be removed in 1.7. Use `sklearn.utils.validation.validate_data` instead. This function becomes public and is part of the scikit-learn developer API.\n",
      "  warnings.warn(\n"
     ]
    },
    {
     "name": "stdout",
     "output_type": "stream",
     "text": [
      "Best parameters: {'criterion': 'entropy', 'max_depth': 7, 'min_samples_leaf': 2, 'min_samples_split': 2}\n",
      "Classification Report:\n",
      "              precision    recall  f1-score   support\n",
      "\n",
      "           0       0.57      0.49      0.53       151\n",
      "           1       0.55      0.62      0.58       149\n",
      "\n",
      "    accuracy                           0.56       300\n",
      "   macro avg       0.56      0.56      0.55       300\n",
      "weighted avg       0.56      0.56      0.55       300\n",
      "\n",
      "Confusion Matrix:\n",
      "[[74 77]\n",
      " [56 93]]\n"
     ]
    }
   ],
   "source": [
    "# i used train spilt method and smote gridseachcv as well also top3 features\n",
    "\n",
    "from sklearn.model_selection import train_test_split\n",
    "from imblearn.over_sampling import SMOTE\n",
    "from sklearn.tree import DecisionTreeClassifier\n",
    "from sklearn.model_selection import GridSearchCV\n",
    "from sklearn.metrics import classification_report, confusion_matrix\n",
    "\n",
    "# Split\n",
    "top_features = ['amount', 'sender_avg_amount', 'transaction_hour']\n",
    "X = X[top_features]\n",
    "X_train, X_test, y_train, y_test = train_test_split(\n",
    "    X, y, test_size=0.3, random_state=42, stratify=y\n",
    ")\n",
    "\n",
    "# SMOTE\n",
    "smote = SMOTE(random_state=42)\n",
    "X_train_resampled, y_train_resampled = smote.fit_resample(X_train, y_train)\n",
    "\n",
    "# Grid Search\n",
    "param_grid = {\n",
    "    'max_depth': [3, 5, 7, 10, None],\n",
    "    'min_samples_split': [2, 5, 10],\n",
    "    'min_samples_leaf': [1, 2, 4],\n",
    "    'criterion': ['gini', 'entropy']\n",
    "}\n",
    "\n",
    "dtree = DecisionTreeClassifier(random_state=42)\n",
    "grid_search = GridSearchCV(dtree, param_grid, cv=5, scoring='f1', verbose=1, n_jobs=-1)\n",
    "grid_search.fit(X_train_resampled, y_train_resampled)\n",
    "\n",
    "# Best model\n",
    "best_dtree = grid_search.best_estimator_\n",
    "print(\"Best parameters:\", grid_search.best_params_)\n",
    "\n",
    "# Predictions & evaluation\n",
    "y_pred = best_dtree.predict(X_test)\n",
    "\n",
    "print(\"Classification Report:\")\n",
    "print(classification_report(y_test, y_pred))\n",
    "\n",
    "print(\"Confusion Matrix:\")\n",
    "print(confusion_matrix(y_test, y_pred))\n"
   ]
  },
  {
   "cell_type": "code",
   "execution_count": 65,
   "metadata": {},
   "outputs": [
    {
     "data": {
      "image/png": "[encoded data removed]",
      "text/plain": [
       "<Figure size 640x480 with 1 Axes>"
      ]
     },
     "metadata": {},
     "output_type": "display_data"
    }
   ],
   "source": [
    "import matplotlib.pyplot as plt\n",
    "importances = best_dtree.feature_importances_\n",
    "features = X.columns\n",
    "plt.barh(features, importances)\n",
    "plt.title(\"Feature Importances\")\n",
    "plt.show()\n"
   ]
  },
  {
   "cell_type": "code",
   "execution_count": 51,
   "metadata": {},
   "outputs": [
    {
     "name": "stderr",
     "output_type": "stream",
     "text": [
      "/opt/anaconda3/lib/python3.12/site-packages/sklearn/base.py:474: FutureWarning: `BaseEstimator._validate_data` is deprecated in 1.6 and will be removed in 1.7. Use `sklearn.utils.validation.validate_data` instead. This function becomes public and is part of the scikit-learn developer API.\n",
      "  warnings.warn(\n"
     ]
    }
   ],
   "source": [
    "from imblearn.over_sampling import SMOTE\n",
    "\n",
    "smote = SMOTE(random_state=42)\n",
    "X_train_resampled, y_train_resampled = smote.fit_resample(X_train, y_train)\n",
    "\n",
    "from sklearn.preprocessing import StandardScaler\n",
    "\n",
    "scaler = StandardScaler()\n",
    "X_train_scaled = scaler.fit_transform(X_train_resampled)\n",
    "X_test_scaled = scaler.transform(X_test)\n"
   ]
  },
  {
   "cell_type": "code",
   "execution_count": 55,
   "metadata": {},
   "outputs": [
    {
     "name": "stdout",
     "output_type": "stream",
     "text": [
      "Fitting 3 folds for each of 72 candidates, totalling 216 fits\n",
      "Classification Report:\n",
      "              precision    recall  f1-score   support\n",
      "\n",
      "           0       0.43      0.26      0.33       100\n",
      "           1       0.47      0.66      0.55       100\n",
      "\n",
      "    accuracy                           0.46       200\n",
      "   macro avg       0.45      0.46      0.44       200\n",
      "weighted avg       0.45      0.46      0.44       200\n",
      "\n",
      "\n",
      "Confusion Matrix:\n",
      "[[26 74]\n",
      " [34 66]]\n"
     ]
    }
   ],
   "source": [
    "from sklearn.model_selection import GridSearchCV\n",
    "from xgboost import XGBClassifier\n",
    "\n",
    "# Define parameter grid for tuning\n",
    "param_grid = {\n",
    "    'n_estimators': [50, 100],\n",
    "    'max_depth': [3, 5, 7],\n",
    "    'learning_rate': [0.01, 0.1, 0.2],\n",
    "    'subsample': [0.8, 1],\n",
    "    'colsample_bytree': [0.8, 1]\n",
    "}\n",
    "\n",
    "xgb = XGBClassifier(random_state=42)\n",
    "grid_search = GridSearchCV(estimator=xgb, param_grid=param_grid, \n",
    "                           scoring='f1', cv=3, verbose=1, n_jobs=-1)\n",
    "\n",
    "grid_search.fit(X_train_resampled, y_train_resampled)\n",
    "\n",
    "# Best model\n",
    "best_model = grid_search.best_estimator_\n",
    "\n",
    "# Evaluate best model on test data\n",
    "y_pred = best_model.predict(X_test)\n",
    "print(\"Classification Report:\")\n",
    "print(classification_report(y_test, y_pred))\n",
    "print(\"\\nConfusion Matrix:\")\n",
    "print(confusion_matrix(y_test, y_pred))\n"
   ]
  },
  {
   "cell_type": "code",
   "execution_count": 54,
   "metadata": {},
   "outputs": [
    {
     "data": {
      "image/png": "[encoded data removed]",
      "text/plain": [
       "<Figure size 640x480 with 1 Axes>"
      ]
     },
     "metadata": {},
     "output_type": "display_data"
    },
    {
     "name": "stdout",
     "output_type": "stream",
     "text": [
      "Classification Report:\n",
      "               precision    recall  f1-score   support\n",
      "\n",
      "           0       0.54      0.49      0.52       100\n",
      "           1       0.54      0.59      0.56       100\n",
      "\n",
      "    accuracy                           0.54       200\n",
      "   macro avg       0.54      0.54      0.54       200\n",
      "weighted avg       0.54      0.54      0.54       200\n",
      "\n",
      "\n",
      "Confusion Matrix:\n",
      " [[49 51]\n",
      " [41 59]]\n"
     ]
    }
   ],
   "source": [
    "from xgboost import XGBClassifier\n",
    "from sklearn.metrics import classification_report, confusion_matrix\n",
    "\n",
    "xgb = XGBClassifier(random_state=42)\n",
    "xgb.fit(X_train_scaled, y_train_resampled)\n",
    "\n",
    "y_pred = xgb.predict(X_test_scaled)\n",
    "\n",
    "import matplotlib.pyplot as plt\n",
    "from xgboost import plot_importance\n",
    "\n",
    "plot_importance(xgb, max_num_features=10)\n",
    "plt.show()\n",
    "\n",
    "# Evaluate\n",
    "print(\"Classification Report:\\n\", classification_report(y_test, y_pred))\n",
    "print(\"\\nConfusion Matrix:\\n\", confusion_matrix(y_test, y_pred))\n"
   ]
  },
  {
   "cell_type": "code",
   "execution_count": 59,
   "metadata": {},
   "outputs": [
    {
     "name": "stdout",
     "output_type": "stream",
     "text": [
      "Classification Report:\n",
      "              precision    recall  f1-score   support\n",
      "\n",
      "           0       0.57      0.59      0.58       100\n",
      "           1       0.57      0.55      0.56       100\n",
      "\n",
      "    accuracy                           0.57       200\n",
      "   macro avg       0.57      0.57      0.57       200\n",
      "weighted avg       0.57      0.57      0.57       200\n",
      "\n",
      "Confusion Matrix:\n",
      "[[59 41]\n",
      " [45 55]]\n"
     ]
    }
   ],
   "source": [
    "from sklearn.tree import DecisionTreeClassifier\n",
    "\n",
    "dt_model = DecisionTreeClassifier(random_state=42)\n",
    "\n",
    "dt_model.fit(X_train_resampled, y_train_resampled)\n",
    "\n",
    "\n",
    "y_pred = dt_model.predict(X_test)\n",
    "\n",
    "from sklearn.metrics import classification_report, confusion_matrix\n",
    "\n",
    "print(\"Classification Report:\")\n",
    "print(classification_report(y_test, y_pred))\n",
    "\n",
    "print(\"Confusion Matrix:\")\n",
    "print(confusion_matrix(y_test, y_pred))\n",
    "\n"
   ]
  },
  {
   "cell_type": "code",
   "execution_count": 29,
   "metadata": {},
   "outputs": [
    {
     "ename": "ValueError",
     "evalue": "Invalid classes inferred from unique values of `y`.  Expected: [0 1], got ['FAILED' 'SUCCESS']",
     "output_type": "error",
     "traceback": [
      "\u001b[0;31m---------------------------------------------------------------------------\u001b[0m",
      "\u001b[0;31mValueError\u001b[0m                                Traceback (most recent call last)",
      "Cell \u001b[0;32mIn[29], line 5\u001b[0m\n\u001b[1;32m      2\u001b[0m \u001b[39mfrom\u001b[39;00m \u001b[39msklearn\u001b[39;00m\u001b[39m.\u001b[39;00m\u001b[39mmetrics\u001b[39;00m \u001b[39mimport\u001b[39;00m classification_report, confusion_matrix, roc_auc_score\n\u001b[1;32m      4\u001b[0m xgb \u001b[39m=\u001b[39m XGBClassifier(random_state\u001b[39m=\u001b[39m\u001b[39m42\u001b[39m)\n\u001b[0;32m----> 5\u001b[0m xgb\u001b[39m.\u001b[39mfit(X_train_resampled, y_train_resampled)\n\u001b[1;32m      7\u001b[0m \u001b[39m# Predictions\u001b[39;00m\n\u001b[1;32m      8\u001b[0m y_pred \u001b[39m=\u001b[39m xgb\u001b[39m.\u001b[39mpredict(X_test)\n",
      "File \u001b[0;32m/opt/anaconda3/lib/python3.12/site-packages/xgboost/core.py:729\u001b[0m, in \u001b[0;36mrequire_keyword_args.<locals>.throw_if.<locals>.inner_f\u001b[0;34m(*args, **kwargs)\u001b[0m\n\u001b[1;32m    727\u001b[0m \u001b[39mfor\u001b[39;00m k, arg \u001b[39min\u001b[39;00m \u001b[39mzip\u001b[39m(sig\u001b[39m.\u001b[39mparameters, args):\n\u001b[1;32m    728\u001b[0m     kwargs[k] \u001b[39m=\u001b[39m arg\n\u001b[0;32m--> 729\u001b[0m \u001b[39mreturn\u001b[39;00m func(\u001b[39m*\u001b[39m\u001b[39m*\u001b[39mkwargs)\n",
      "File \u001b[0;32m/opt/anaconda3/lib/python3.12/site-packages/xgboost/sklearn.py:1640\u001b[0m, in \u001b[0;36mXGBClassifier.fit\u001b[0;34m(self, X, y, sample_weight, base_margin, eval_set, verbose, xgb_model, sample_weight_eval_set, base_margin_eval_set, feature_weights)\u001b[0m\n\u001b[1;32m   1635\u001b[0m     expected_classes \u001b[39m=\u001b[39m \u001b[39mself\u001b[39m\u001b[39m.\u001b[39mclasses_\n\u001b[1;32m   1636\u001b[0m \u001b[39mif\u001b[39;00m (\n\u001b[1;32m   1637\u001b[0m     classes\u001b[39m.\u001b[39mshape \u001b[39m!=\u001b[39m expected_classes\u001b[39m.\u001b[39mshape\n\u001b[1;32m   1638\u001b[0m     \u001b[39mor\u001b[39;00m \u001b[39mnot\u001b[39;00m (classes \u001b[39m==\u001b[39m expected_classes)\u001b[39m.\u001b[39mall()\n\u001b[1;32m   1639\u001b[0m ):\n\u001b[0;32m-> 1640\u001b[0m     \u001b[39mraise\u001b[39;00m \u001b[39mValueError\u001b[39;00m(\n\u001b[1;32m   1641\u001b[0m         \u001b[39mf\u001b[39m\u001b[39m\"\u001b[39m\u001b[39mInvalid classes inferred from unique values of `y`.  \u001b[39m\u001b[39m\"\u001b[39m\n\u001b[1;32m   1642\u001b[0m         \u001b[39mf\u001b[39m\u001b[39m\"\u001b[39m\u001b[39mExpected: \u001b[39m\u001b[39m{\u001b[39;00mexpected_classes\u001b[39m}\u001b[39;00m\u001b[39m, got \u001b[39m\u001b[39m{\u001b[39;00mclasses\u001b[39m}\u001b[39;00m\u001b[39m\"\u001b[39m\n\u001b[1;32m   1643\u001b[0m     )\n\u001b[1;32m   1645\u001b[0m params \u001b[39m=\u001b[39m \u001b[39mself\u001b[39m\u001b[39m.\u001b[39mget_xgb_params()\n\u001b[1;32m   1647\u001b[0m \u001b[39mif\u001b[39;00m \u001b[39mcallable\u001b[39m(\u001b[39mself\u001b[39m\u001b[39m.\u001b[39mobjective):\n",
      "\u001b[0;31mValueError\u001b[0m: Invalid classes inferred from unique values of `y`.  Expected: [0 1], got ['FAILED' 'SUCCESS']"
     ]
    }
   ],
   "source": [
    "from xgboost import XGBClassifier\n",
    "from sklearn.metrics import classification_report, confusion_matrix, roc_auc_score\n",
    "\n",
    "xgb = XGBClassifier(random_state=42)\n",
    "xgb.fit(X_train_resampled, y_train_resampled)\n",
    "\n",
    "# Predictions\n",
    "y_pred = xgb.predict(X_test)\n",
    "\n",
    "# Evaluation\n",
    "print(\"Classification Report:\\n\", classification_report(y_test, y_pred))\n",
    "print(\"Confusion Matrix:\\n\", confusion_matrix(y_test, y_pred))\n",
    "print(\"ROC-AUC Score:\", roc_auc_score(y_test, xgb.predict_proba(X_test)[:, 1]))\n"
   ]
  },
  {
   "cell_type": "code",
   "execution_count": null,
   "metadata": {},
   "outputs": [],
   "source": []
  },
  {
   "cell_type": "code",
   "execution_count": 8,
   "metadata": {},
   "outputs": [
    {
     "data": {
      "image/png": "[encoded data removed]",
      "text/plain": [
       "<Figure size 1000x500 with 1 Axes>"
      ]
     },
     "metadata": {},
     "output_type": "display_data"
    }
   ],
   "source": [
    "plt.figure(figsize=(10, 5))\n",
    "sns.histplot(data=df, x='amount', hue='status', bins=50, kde=True)\n",
    "plt.title(\"Transaction Amount Distribution (Fraud vs Legit)\")\n",
    "plt.xlabel(\"Amount (INR)\")\n",
    "plt.ylabel(\"Transaction Count\")\n",
    "plt.show()\n"
   ]
  },
  {
   "cell_type": "code",
   "execution_count": 11,
   "metadata": {},
   "outputs": [
    {
     "name": "stdout",
     "output_type": "stream",
     "text": [
      "[1 0]\n"
     ]
    }
   ],
   "source": [
    "print(df_processed['status'].unique())\n"
   ]
  },
  {
   "cell_type": "code",
   "execution_count": 10,
   "metadata": {},
   "outputs": [
    {
     "data": {
      "text/html": [
       "<div>\n",
       "<style scoped>\n",
       "    .dataframe tbody tr th:only-of-type {\n",
       "        vertical-align: middle;\n",
       "    }\n",
       "\n",
       "    .dataframe tbody tr th {\n",
       "        vertical-align: top;\n",
       "    }\n",
       "\n",
       "    .dataframe thead th {\n",
       "        text-align: right;\n",
       "    }\n",
       "</style>\n",
       "<table border=\"1\" class=\"dataframe\">\n",
       "  <thead>\n",
       "    <tr style=\"text-align: right;\">\n",
       "      <th></th>\n",
       "      <th>sender_upi</th>\n",
       "      <th>receiver_upi</th>\n",
       "      <th>amount</th>\n",
       "      <th>status</th>\n",
       "    </tr>\n",
       "  </thead>\n",
       "  <tbody>\n",
       "    <tr>\n",
       "      <th>0</th>\n",
       "      <td>445</td>\n",
       "      <td>787</td>\n",
       "      <td>3907.34</td>\n",
       "      <td>1</td>\n",
       "    </tr>\n",
       "    <tr>\n",
       "      <th>1</th>\n",
       "      <td>899</td>\n",
       "      <td>769</td>\n",
       "      <td>8404.55</td>\n",
       "      <td>0</td>\n",
       "    </tr>\n",
       "    <tr>\n",
       "      <th>2</th>\n",
       "      <td>490</td>\n",
       "      <td>252</td>\n",
       "      <td>941.88</td>\n",
       "      <td>0</td>\n",
       "    </tr>\n",
       "    <tr>\n",
       "      <th>3</th>\n",
       "      <td>709</td>\n",
       "      <td>208</td>\n",
       "      <td>8926.00</td>\n",
       "      <td>0</td>\n",
       "    </tr>\n",
       "    <tr>\n",
       "      <th>4</th>\n",
       "      <td>221</td>\n",
       "      <td>527</td>\n",
       "      <td>2800.55</td>\n",
       "      <td>0</td>\n",
       "    </tr>\n",
       "  </tbody>\n",
       "</table>\n",
       "</div>"
      ],
      "text/plain": [
       "   sender_upi  receiver_upi   amount  status\n",
       "0         445           787  3907.34       1\n",
       "1         899           769  8404.55       0\n",
       "2         490           252   941.88       0\n",
       "3         709           208  8926.00       0\n",
       "4         221           527  2800.55       0"
      ]
     },
     "execution_count": 10,
     "metadata": {},
     "output_type": "execute_result"
    }
   ],
   "source": [
    "from sklearn.preprocessing import LabelEncoder\n",
    "\n",
    "df_processed = df.copy()\n",
    "\n",
    "# Encode sender/receiver UPI IDs\n",
    "le = LabelEncoder()\n",
    "df_processed['sender_upi'] = le.fit_transform(df_processed['sender_upi'])\n",
    "df_processed['receiver_upi'] = le.fit_transform(df_processed['receiver_upi'])\n",
    "\n",
    "# Map 'status' column\n",
    "df_processed['status'] = df_processed['status'].str.upper().map({\n",
    "    'SUCCESS': 0,\n",
    "    'FAILED': 1\n",
    "}).astype(int)\n",
    "\n",
    "\n",
    "df_processed.drop(['transaction_id', 'timestamp', 'sender_name', 'receiver_name'], axis=1, inplace=True)\n",
    "\n",
    "df_processed.head()\n"
   ]
  },
  {
   "cell_type": "code",
   "execution_count": 13,
   "metadata": {},
   "outputs": [],
   "source": [
    "\n",
    "X = df_processed.drop(\"status\", axis=1)\n",
    "y = df_processed[\"status\"]\n",
    "\n",
    "X_train, X_test, y_train, y_test = train_test_split(\n",
    "    X, y, test_size=0.3, random_state=42, stratify=y\n",
    ")\n",
    "\n",
    "\n",
    "model = RandomForestClassifier(class_weight='balanced',n_estimators=100, random_state=42)\n",
    "model.fit(X_train, y_train)\n",
    "\n",
    "y_pred = model.predict(X_test)\n"
   ]
  },
  {
   "cell_type": "code",
   "execution_count": 14,
   "metadata": {},
   "outputs": [
    {
     "name": "stdout",
     "output_type": "stream",
     "text": [
      "459    1\n",
      "50     1\n",
      "515    1\n",
      "478    1\n",
      "127    0\n",
      "      ..\n",
      "69     0\n",
      "721    0\n",
      "954    0\n",
      "277    0\n",
      "441    0\n",
      "Name: status, Length: 300, dtype: int64\n",
      "[1 0 1 1 1 0 1 0 1 1 1 0 0 1 0 1 1 0 0 0 0 1 0 1 1 1 0 1 0 1 0 1 1 1 1 0 0\n",
      " 0 1 1 0 1 1 1 1 0 1 0 1 0 0 0 0 1 0 0 0 0 1 0 0 0 1 0 0 0 0 0 1 1 1 0 0 1\n",
      " 0 0 0 1 1 0 1 0 0 0 1 1 1 0 1 0 1 0 0 0 1 0 0 1 1 1 1 1 1 0 1 1 1 1 1 1 0\n",
      " 0 0 1 0 1 1 1 1 0 1 0 1 0 0 1 0 0 0 1 0 1 1 0 0 1 0 0 1 1 0 1 0 1 1 0 1 1\n",
      " 0 1 1 0 0 0 0 1 1 0 1 1 0 0 0 0 0 0 1 1 0 0 1 1 1 1 1 0 0 1 1 0 0 1 1 1 0\n",
      " 1 0 0 1 0 0 1 1 1 1 0 1 0 1 0 1 1 0 0 1 1 0 0 1 1 1 1 0 1 1 1 1 0 0 1 0 1\n",
      " 0 0 1 1 0 0 1 0 1 0 1 1 0 0 1 1 0 0 1 1 0 1 0 1 0 1 1 0 0 1 0 1 1 1 1 0 1\n",
      " 1 0 0 1 0 1 0 0 1 0 0 0 1 0 1 1 1 0 0 1 1 0 0 0 0 0 0 0 0 0 0 0 0 0 0 1 0\n",
      " 0 1 1 1]\n"
     ]
    }
   ],
   "source": [
    "# print(X_train.dtypes)\n",
    "print(y_test)\n",
    "print(y_pred)"
   ]
  },
  {
   "cell_type": "code",
   "execution_count": 15,
   "metadata": {},
   "outputs": [
    {
     "name": "stdout",
     "output_type": "stream",
     "text": [
      "Classification Report:\n",
      "              precision    recall  f1-score   support\n",
      "\n",
      "           0       0.52      0.52      0.52       151\n",
      "           1       0.51      0.52      0.52       149\n",
      "\n",
      "    accuracy                           0.52       300\n",
      "   macro avg       0.52      0.52      0.52       300\n",
      "weighted avg       0.52      0.52      0.52       300\n",
      "\n",
      "Confusion Matrix:\n"
     ]
    },
    {
     "data": {
      "image/png": "[encoded data removed]",
      "text/plain": [
       "<Figure size 640x480 with 2 Axes>"
      ]
     },
     "metadata": {},
     "output_type": "display_data"
    }
   ],
   "source": [
    "print(\"Classification Report:\")\n",
    "print(classification_report(y_test, y_pred))\n",
    "\n",
    "print(\"Confusion Matrix:\")\n",
    "sns.heatmap(confusion_matrix(y_test, y_pred), annot=True, fmt='d', cmap=\"Blues\")\n",
    "plt.xlabel(\"Predicted\")\n",
    "plt.ylabel(\"Actual\")\n",
    "plt.title(\"Confusion Matrix\")\n",
    "plt.show()\n"
   ]
  },
  {
   "cell_type": "code",
   "execution_count": 16,
   "metadata": {},
   "outputs": [
    {
     "data": {
      "image/png": "[encoded data removed]",
      "text/plain": [
       "<Figure size 800x600 with 1 Axes>"
      ]
     },
     "metadata": {},
     "output_type": "display_data"
    }
   ],
   "source": [
    "importances = pd.Series(model.feature_importances_, index=X.columns)\n",
    "importances.sort_values().plot(kind='barh', figsize=(8,6))\n",
    "plt.title(\"Feature Importances\")\n",
    "plt.xlabel(\"Importance\")\n",
    "plt.ylabel(\"Feature\")\n",
    "plt.show()\n"
   ]
  },
  {
   "cell_type": "code",
   "execution_count": 1,
   "metadata": {},
   "outputs": [
    {
     "name": "stdout",
     "output_type": "stream",
     "text": [
      "/opt/anaconda3/bin/python\n"
     ]
    }
   ],
   "source": [
    "import sys\n",
    "print(sys.executable)\n",
    "# MAKE SURE CORRECT PYHTO ENVIRONMENT IS USED LIKE THE MODULE IS IN SAME ENVIRONMENT AS THE USED IN THIS KERNEL\n",
    "\n"
   ]
  },
  {
   "cell_type": "code",
   "execution_count": 22,
   "metadata": {},
   "outputs": [
    {
     "name": "stdout",
     "output_type": "stream",
     "text": [
      "              precision    recall  f1-score   support\n",
      "\n",
      "           0       0.46      0.44      0.45       151\n",
      "           1       0.46      0.49      0.48       149\n",
      "\n",
      "    accuracy                           0.46       300\n",
      "   macro avg       0.46      0.46      0.46       300\n",
      "weighted avg       0.46      0.46      0.46       300\n",
      "\n"
     ]
    }
   ],
   "source": [
    "from xgboost import XGBClassifier\n",
    "\n",
    "counter = Counter(y_train)\n",
    "ratio = counter[0] / counter[1] \n",
    "\n",
    "xgb = XGBClassifier(scale_pos_weight=ratio)  # ratio = (non-fraud / fraud)\n",
    "xgb.fit(X_train, y_train)\n",
    "y_pred = xgb.predict(X_test)\n",
    "\n",
    "print(classification_report(y_test, y_pred))\n"
   ]
  },
  {
   "cell_type": "code",
   "execution_count": null,
   "metadata": {},
   "outputs": [],
   "source": []
  },
  {
   "cell_type": "code",
   "execution_count": null,
   "metadata": {},
   "outputs": [],
   "source": []
  },
  {
   "cell_type": "code",
   "execution_count": null,
   "metadata": {},
   "outputs": [],
   "source": []
  },
  {
   "cell_type": "code",
   "execution_count": null,
   "metadata": {},
   "outputs": [],
   "source": []
  },
  {
   "cell_type": "code",
   "execution_count": null,
   "metadata": {},
   "outputs": [],
   "source": []
  },
  {
   "cell_type": "code",
   "execution_count": null,
   "metadata": {},
   "outputs": [],
   "source": []
  },
  {
   "cell_type": "code",
   "execution_count": null,
   "metadata": {},
   "outputs": [],
   "source": []
  }
 ],
 "metadata": {
  "kernelspec": {
   "display_name": "base",
   "language": "python",
   "name": "python3"
  },
  "language_info": {
   "codemirror_mode": {
    "name": "ipython",
    "version": 3
   },
   "file_extension": ".py",
   "mimetype": "text/x-python",
   "name": "python",
   "nbconvert_exporter": "python",
   "pygments_lexer": "ipython3",
   "version": "3.12.2"
  },
  "orig_nbformat": 4,
  "vscode": {
   "interpreter": {
    "hash": "40d3a090f54c6569ab1632332b64b2c03c39dcf918b08424e98f38b5ae0af88f"
   }
  }
 },
 "nbformat": 4,
 "nbformat_minor": 2
}
